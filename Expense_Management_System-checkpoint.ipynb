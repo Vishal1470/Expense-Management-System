{
 "cells": [
  {
   "cell_type": "code",
   "execution_count": 1,
   "id": "a165e83d-3e2c-4afe-a76e-794fadc86876",
   "metadata": {},
   "outputs": [
    {
     "name": "stdout",
     "output_type": "stream",
     "text": [
      "Libraries Loaded ✅\n"
     ]
    }
   ],
   "source": [
    "import pandas as pd\n",
    "import matplotlib.pyplot as plt\n",
    "\n",
    "print(\"Libraries Loaded ✅\")"
   ]
  },
  {
   "cell_type": "code",
   "execution_count": 2,
   "id": "600a3a05-fc28-47e5-a2f0-b679e60c8834",
   "metadata": {},
   "outputs": [
    {
     "name": "stdout",
     "output_type": "stream",
     "text": [
      "Expense CSV Initialized ✅\n"
     ]
    }
   ],
   "source": [
    "# Expense columns: ID, User, Title, Description, Amount, Category, Date\n",
    "\n",
    "# Empty DataFrame setup\n",
    "columns = [\"ID\", \"User\", \"Title\", \"Description\", \"Amount\", \"Category\", \"Date\"]\n",
    "expenses_df = pd.DataFrame(columns=columns)\n",
    "\n",
    "expenses_df.to_csv(\"expenses.csv\", index=False)\n",
    "print(\"Expense CSV Initialized ✅\")\n"
   ]
  },
  {
   "cell_type": "code",
   "execution_count": 3,
   "id": "cd706cba-ac1b-44b6-85c7-bc70f94877c5",
   "metadata": {},
   "outputs": [
    {
     "name": "stdout",
     "output_type": "stream",
     "text": [
      "✅ Expense 'Groceries' added successfully!\n"
     ]
    }
   ],
   "source": [
    "from datetime import datetime\n",
    "\n",
    "def add_expense(user, title, description, amount, category, date):\n",
    "    df = pd.read_csv(\"expenses.csv\")\n",
    "    new_id = len(df) + 1\n",
    "    new_expense = {\n",
    "        \"ID\": new_id,\n",
    "        \"User\": user,\n",
    "        \"Title\": title,\n",
    "        \"Description\": description,\n",
    "        \"Amount\": amount,\n",
    "        \"Category\": category,\n",
    "        \"Date\": date\n",
    "    }\n",
    "    df = pd.concat([df, pd.DataFrame([new_expense])], ignore_index=True)\n",
    "    df.to_csv(\"expenses.csv\", index=False)\n",
    "    print(f\"✅ Expense '{title}' added successfully!\")\n",
    "\n",
    "# Example Call:\n",
    "add_expense(\"Vishal\", \"Groceries\", \"Milk and bread\", 150, \"Food\", \"2025-07-10\")\n"
   ]
  },
  {
   "cell_type": "code",
   "execution_count": 4,
   "id": "433e15c8-43d7-44a3-99d3-c7487449271b",
   "metadata": {},
   "outputs": [
    {
     "data": {
      "text/html": [
       "<div>\n",
       "<style scoped>\n",
       "    .dataframe tbody tr th:only-of-type {\n",
       "        vertical-align: middle;\n",
       "    }\n",
       "\n",
       "    .dataframe tbody tr th {\n",
       "        vertical-align: top;\n",
       "    }\n",
       "\n",
       "    .dataframe thead th {\n",
       "        text-align: right;\n",
       "    }\n",
       "</style>\n",
       "<table border=\"1\" class=\"dataframe\">\n",
       "  <thead>\n",
       "    <tr style=\"text-align: right;\">\n",
       "      <th></th>\n",
       "      <th>ID</th>\n",
       "      <th>User</th>\n",
       "      <th>Title</th>\n",
       "      <th>Description</th>\n",
       "      <th>Amount</th>\n",
       "      <th>Category</th>\n",
       "      <th>Date</th>\n",
       "    </tr>\n",
       "  </thead>\n",
       "  <tbody>\n",
       "    <tr>\n",
       "      <th>0</th>\n",
       "      <td>1</td>\n",
       "      <td>Vishal</td>\n",
       "      <td>Groceries</td>\n",
       "      <td>Milk and bread</td>\n",
       "      <td>150</td>\n",
       "      <td>Food</td>\n",
       "      <td>2025-07-10</td>\n",
       "    </tr>\n",
       "  </tbody>\n",
       "</table>\n",
       "</div>"
      ],
      "text/plain": [
       "   ID    User      Title     Description  Amount Category        Date\n",
       "0   1  Vishal  Groceries  Milk and bread     150     Food  2025-07-10"
      ]
     },
     "metadata": {},
     "output_type": "display_data"
    }
   ],
   "source": [
    "def view_expenses():\n",
    "    df = pd.read_csv(\"expenses.csv\")\n",
    "    display(df)\n",
    "\n",
    "# Example Call:\n",
    "view_expenses()\n"
   ]
  },
  {
   "cell_type": "code",
   "execution_count": 7,
   "id": "dbbed912-dfcd-4a87-82b3-d9a5ce40d367",
   "metadata": {},
   "outputs": [],
   "source": [
    "def update_expense(expense_id, field, new_value):\n",
    "    df = pd.read_csv(\"expenses.csv\")\n",
    "    if expense_id in df[\"ID\"].values:\n",
    "        df.loc[df[\"ID\"] == expense_id, field] = new_value\n",
    "        df.to_csv(\"expenses.csv\", index=False)\n",
    "        print(f\"✅ Expense ID {expense_id} updated successfully!\")\n",
    "    else:\n",
    "        print(f\"❌ Expense ID {expense_id} not found.\")\n",
    "\n",
    "# Example Call:\n",
    "# update_expense(1, \"Amount\", 200)\n"
   ]
  },
  {
   "cell_type": "code",
   "execution_count": 8,
   "id": "c02b5947-0e0e-46b6-b7bf-e6a4ba85ab46",
   "metadata": {},
   "outputs": [],
   "source": [
    "def delete_expense(expense_id):\n",
    "    df = pd.read_csv(\"expenses.csv\")\n",
    "    if expense_id in df[\"ID\"].values:\n",
    "        df = df[df[\"ID\"] != expense_id]\n",
    "        # IDs ko reset karna for consistency\n",
    "        df.reset_index(drop=True, inplace=True)\n",
    "        df[\"ID\"] = range(1, len(df) + 1)\n",
    "        df.to_csv(\"expenses.csv\", index=False)\n",
    "        print(f\"✅ Expense ID {expense_id} deleted successfully!\")\n",
    "    else:\n",
    "        print(f\"❌ Expense ID {expense_id} not found.\")\n",
    "\n",
    "# Example Call:\n",
    "# delete_expense(1)\n"
   ]
  },
  {
   "cell_type": "code",
   "execution_count": 9,
   "id": "988c9675-2ab4-44ab-8d50-73f4304fc968",
   "metadata": {},
   "outputs": [],
   "source": [
    "def category_wise_report():\n",
    "    df = pd.read_csv(\"expenses.csv\")\n",
    "    report = df.groupby(\"Category\")[\"Amount\"].sum().sort_values(ascending=False)\n",
    "    print(\"📊 Category-wise Expense Report:\")\n",
    "    print(report)\n",
    "\n",
    "def monthly_report():\n",
    "    df = pd.read_csv(\"expenses.csv\")\n",
    "    df[\"Date\"] = pd.to_datetime(df[\"Date\"])\n",
    "    df[\"Month\"] = df[\"Date\"].dt.to_period(\"M\")\n",
    "    report = df.groupby(\"Month\")[\"Amount\"].sum().sort_index()\n",
    "    print(\"📊 Monthly Expense Report:\")\n",
    "    print(report)\n",
    "\n",
    "# Example Calls:\n",
    "# category_wise_report()\n",
    "# monthly_report()\n"
   ]
  },
  {
   "cell_type": "code",
   "execution_count": 11,
   "id": "7ad6b4e2-c983-4765-9cc1-38e466195c4f",
   "metadata": {},
   "outputs": [],
   "source": [
    "def plot_category_pie_chart():\n",
    "    df = pd.read_csv(\"expenses.csv\")\n",
    "    category_data = df.groupby(\"Category\")[\"Amount\"].sum()\n",
    "    plt.figure(figsize=(6,6))\n",
    "    category_data.plot.pie(autopct='%1.1f%%')\n",
    "    plt.title(\"Category-wise Expense Distribution\")\n",
    "    plt.ylabel(\"\")\n",
    "    plt.show()\n",
    "\n",
    "def plot_monthly_bar_chart():\n",
    "    df = pd.read_csv(\"expenses.csv\")\n",
    "    df[\"Date\"] = pd.to_datetime(df[\"Date\"])\n",
    "    df[\"Month\"] = df[\"Date\"].dt.to_period(\"M\")\n",
    "    month_data = df.groupby(\"Month\")[\"Amount\"].sum()\n",
    "    plt.figure(figsize=(8,5))\n",
    "    month_data.plot(kind=\"bar\")\n",
    "    plt.title(\"Monthly Expenses\")\n",
    "    plt.ylabel(\"Amount\")\n",
    "    plt.xlabel(\"Month\")\n",
    "    plt.show()\n",
    "\n",
    "# Example Calls:\n",
    "# plot_category_pie_chart()\n",
    "# plot_monthly_bar_chart()\n"
   ]
  }
 ],
 "metadata": {
  "kernelspec": {
   "display_name": "Python 3 (ipykernel)",
   "language": "python",
   "name": "python3"
  },
  "language_info": {
   "codemirror_mode": {
    "name": "ipython",
    "version": 3
   },
   "file_extension": ".py",
   "mimetype": "text/x-python",
   "name": "python",
   "nbconvert_exporter": "python",
   "pygments_lexer": "ipython3",
   "version": "3.13.5"
  }
 },
 "nbformat": 4,
 "nbformat_minor": 5
}
